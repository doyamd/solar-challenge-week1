{
 "cells": [
  {
   "cell_type": "code",
   "execution_count": null,
   "id": "11027b91",
   "metadata": {},
   "outputs": [],
   "source": [
    "import pandas as pd\n",
    "import numpy as np\n",
    "import seaborn as sns\n",
    "import matplotlib.pyplot as plt\n",
    "import scipy as stats \n",
    "from scipy.stats import zscore\n",
    "import matplotlib.pyplot as plt\n",
    "from windrose import WindroseAxes"
   ]
  },
  {
   "cell_type": "code",
   "execution_count": null,
   "id": "69e30fd0",
   "metadata": {},
   "outputs": [],
   "source": [
    "#Loading the dataset\n",
    "df = pd.read_csv(\"data/togo-dapaong_qc.csv\")"
   ]
  },
  {
   "cell_type": "code",
   "execution_count": null,
   "id": "1b6eb7fa",
   "metadata": {},
   "outputs": [],
   "source": [
    "df.describe() #stat"
   ]
  },
  {
   "cell_type": "code",
   "execution_count": null,
   "id": "59620cee",
   "metadata": {},
   "outputs": [],
   "source": [
    "df.isna().sum() #missing values"
   ]
  },
  {
   "cell_type": "code",
   "execution_count": null,
   "id": "5f0c564e",
   "metadata": {},
   "outputs": [],
   "source": [
    "missing_percentage = df.isna().mean() * 100\n",
    "high_null_columns = missing_percentage[missing_percentage > 5]\n",
    "\n",
    "print(\"Columns with >5% missing values:\")\n",
    "print(high_null_columns)"
   ]
  },
  {
   "cell_type": "code",
   "execution_count": null,
   "id": "ce81cfa9",
   "metadata": {},
   "outputs": [],
   "source": [
    "cols_to_check = ['GHI', 'DNI', 'DHI', 'ModA', 'ModB', 'WS', 'WSgust'] #outliers of these\n",
    "z_scores = df[cols_to_check].apply(zscore)\n",
    "outliers = (np.abs(z_scores) > 3)\n",
    "print(\"Outlier counts per column (|Z| > 3):\")\n",
    "print(outliers.sum())"
   ]
  },
  {
   "cell_type": "code",
   "execution_count": null,
   "id": "c14d350a",
   "metadata": {},
   "outputs": [],
   "source": [
    "df[cols_to_check] = df[cols_to_check].mask(outliers) #make outliers NaN"
   ]
  },
  {
   "cell_type": "code",
   "execution_count": null,
   "id": "5bd4ce3e",
   "metadata": {},
   "outputs": [],
   "source": [
    "df_clean = df.copy() #make missing values median\n",
    "for col in cols_to_check:\n",
    "    median_value = df_clean[col].median()\n",
    "    df_clean[col] = df_clean[col].fillna(median_value)"
   ]
  },
  {
   "cell_type": "code",
   "execution_count": null,
   "id": "a5f360d2",
   "metadata": {},
   "outputs": [],
   "source": [
    "df_clean.to_csv(\"data/togo_clean.csv\", index=False)"
   ]
  },
  {
   "cell_type": "code",
   "execution_count": null,
   "id": "4d9fbe32",
   "metadata": {},
   "outputs": [],
   "source": [
    "df_clean['Timestamp'] = pd.to_datetime(df_clean['Timestamp'])\n"
   ]
  },
  {
   "cell_type": "code",
   "execution_count": null,
   "id": "6a245da8",
   "metadata": {},
   "outputs": [],
   "source": [
    "plt.figure(figsize=(14, 7))\n",
    "\n",
    "plt.plot(df_clean['Timestamp'], df_clean['GHI'], label='GHI')\n",
    "plt.plot(df_clean['Timestamp'], df_clean['DNI'], label='DNI')\n",
    "plt.plot(df_clean['Timestamp'], df_clean['DHI'], label='DHI')\n",
    "plt.plot(df_clean['Timestamp'], df_clean['Tamb'], label='Tamb')\n",
    "\n",
    "plt.xlabel('Timestamp')\n",
    "plt.ylabel('Value')\n",
    "plt.title('Solar Irradiance and Temperature Over Time')\n",
    "plt.legend()\n",
    "plt.show()"
   ]
  },
  {
   "cell_type": "code",
   "execution_count": null,
   "id": "f7241f29",
   "metadata": {},
   "outputs": [],
   "source": [
    "df_clean['Month'] = df_clean['Timestamp'].dt.month\n",
    "\n",
    "monthly_avg = df_clean.groupby('Month')[['GHI', 'DNI', 'DHI', 'Tamb']].mean()\n",
    "\n",
    "monthly_avg.plot(kind='bar', figsize=(12, 6))\n",
    "plt.title('Average Solar Irradiance and Temperature by Month')\n",
    "plt.xlabel('Month')\n",
    "plt.ylabel('Average Value')\n",
    "plt.show()"
   ]
  },
  {
   "cell_type": "code",
   "execution_count": null,
   "id": "e49196fb",
   "metadata": {},
   "outputs": [],
   "source": [
    "cols = ['GHI', 'DNI', 'DHI', 'Tamb']\n",
    "\n",
    "# Compute z-scores\n",
    "z_scores_clean = df_clean[cols].apply(zscore)\n",
    "\n",
    "# Identify rows where any absolute z-score > 3\n",
    "outliers_clean = (z_scores_clean.abs() > 3).any(axis=1)\n",
    "df_outliers_clean = df_clean[outliers_clean]"
   ]
  },
  {
   "cell_type": "code",
   "execution_count": null,
   "id": "889db2fb",
   "metadata": {},
   "outputs": [],
   "source": [
    "df_clean['Timestamp'] = pd.to_datetime(df_clean['Timestamp'])\n",
    "df_clean.set_index('Timestamp', inplace=True)\n",
    "df_outliers_clean.set_index('Timestamp', inplace=True)"
   ]
  },
  {
   "cell_type": "code",
   "execution_count": null,
   "id": "7e5aad49",
   "metadata": {},
   "outputs": [],
   "source": [
    "plt.figure(figsize=(12, 5))\n",
    "sns.lineplot(data=df_clean, x=df_clean.index, y='GHI', label='GHI')\n",
    "sns.scatterplot(data=df_outliers_clean, x=df_outliers_clean.index, y='GHI', color='red', label='Anomalies')\n",
    "plt.title(\"GHI with Anomalies Highlighted\")\n",
    "plt.legend()\n",
    "plt.show()"
   ]
  },
  {
   "cell_type": "code",
   "execution_count": null,
   "id": "a58d3750",
   "metadata": {},
   "outputs": [],
   "source": [
    "plt.figure(figsize=(12, 5)) \n",
    "sns.lineplot(data=df_clean, x=df_clean.index, y='DNI', label='DNI')\n",
    "sns.scatterplot(data=df_outliers_clean, x=df_outliers_clean.index, y='DNI', color='red', label='Anomalies')\n",
    "plt.title(\"DNI with Anomalies Highlighted\")\n",
    "plt.legend()\n",
    "plt.show()"
   ]
  },
  {
   "cell_type": "code",
   "execution_count": null,
   "id": "dd44eef7",
   "metadata": {},
   "outputs": [],
   "source": [
    "plt.figure(figsize=(12, 5))\n",
    "sns.lineplot(data=df_clean, x=df_clean.index, y='DHI', label='DHI')\n",
    "sns.scatterplot(data=df_outliers_clean, x=df_outliers_clean.index, y='DHI', color='red', label='Anomalies')\n",
    "plt.title(\"DHI with Anomalies Highlighted\")\n",
    "plt.legend()\n",
    "plt.show()\n"
   ]
  },
  {
   "cell_type": "code",
   "execution_count": null,
   "id": "d2d7d011",
   "metadata": {},
   "outputs": [],
   "source": [
    "plt.figure(figsize=(12, 5))\n",
    "sns.lineplot(data=df_clean, x=df_clean.index, y='Tamb', label='Tamb')\n",
    "sns.scatterplot(data=df_outliers_clean, x=df_outliers_clean.index, y='Tamb', color='red', label='Anomalies')\n",
    "plt.title(\"Tamb with Anomalies Highlighted\")\n",
    "plt.legend()\n",
    "plt.show()\n"
   ]
  },
  {
   "cell_type": "code",
   "execution_count": null,
   "id": "3dd81e3b",
   "metadata": {},
   "outputs": [],
   "source": [
    "#Cleaning effect on ModA and ModB\n",
    "cleaning_effect = df_clean.groupby('Cleaning')[['ModA', 'ModB']].mean().reset_index()\n",
    "\n",
    "# Melt the dataframe for better Seaborn plotting\n",
    "melted = cleaning_effect.melt(id_vars='Cleaning', value_vars=['ModA', 'ModB'],\n",
    "                               var_name='Module', value_name='Average Irradiance')\n",
    "\n",
    "# Plot\n",
    "plt.figure(figsize=(8, 5))\n",
    "sns.barplot(data=melted, x='Cleaning', y='Average Irradiance', hue='Module')\n",
    "plt.title('Effect of Cleaning on ModA and ModB')\n",
    "plt.xlabel('Cleaning (0 = Before, 1 = After)')\n",
    "plt.ylabel('Average Irradiance')\n",
    "plt.xticks([0, 1], ['Before Cleaning', 'After Cleaning'])\n",
    "plt.tight_layout()\n",
    "plt.show()"
   ]
  },
  {
   "cell_type": "code",
   "execution_count": null,
   "id": "7bc02578",
   "metadata": {},
   "outputs": [],
   "source": [
    "#Heatmap of Correlations\n",
    "corr_cols = ['GHI', 'DNI', 'DHI', 'TModA', 'TModB']\n",
    "corr_matrix = df_clean[corr_cols].corr()\n",
    "\n",
    "# Plot heatmap\n",
    "plt.figure(figsize=(8, 6))\n",
    "sns.heatmap(corr_matrix, annot=True, cmap='coolwarm', fmt=\".2f\")\n",
    "plt.title('Correlation Heatmap')\n",
    "plt.show()"
   ]
  },
  {
   "cell_type": "code",
   "execution_count": null,
   "id": "8ed3ce28",
   "metadata": {},
   "outputs": [],
   "source": [
    "#Scatter plots: WS, WSgust, WD vs. GHI\n",
    "# WS vs. GHI\n",
    "sns.scatterplot(data=df_clean, x='WS', y='GHI', size=1, legend=False)\n",
    "plt.title('Wind Speed (WS) vs GHI')\n",
    "plt.show()\n",
    "\n",
    "# WSgust vs. GHI\n",
    "sns.scatterplot(data=df_clean, x='WSgust', y='GHI', size=1, legend=False)\n",
    "plt.title('Wind Gust (WSgust) vs GHI')\n",
    "plt.show()\n",
    "\n",
    "# WD vs. GHI\n",
    "sns.scatterplot(data=df_clean, x='WD', y='GHI', size=1, legend=False)\n",
    "plt.title('Wind Direction (WD) vs GHI')\n",
    "plt.show()\n"
   ]
  },
  {
   "cell_type": "code",
   "execution_count": null,
   "id": "c228489b",
   "metadata": {},
   "outputs": [],
   "source": [
    "# RH vs. Tamb\n",
    "sns.scatterplot(data=df_clean, x='RH', y='Tamb', size=1, legend=False)\n",
    "plt.title('Relative Humidity (RH) vs Temperature (Tamb)')\n",
    "plt.show()\n",
    "\n",
    "# RH vs. GHI\n",
    "sns.scatterplot(data=df_clean, x='RH', y='GHI', size=1, legend=False)\n",
    "plt.title('Relative Humidity (RH) vs GHI')\n",
    "plt.show()"
   ]
  },
  {
   "cell_type": "code",
   "execution_count": null,
   "id": "fded4465",
   "metadata": {},
   "outputs": [],
   "source": [
    "#Wind rose or radial bar plot of WS/WD\n",
    "df_wind = df_clean[['WS', 'WD']].dropna()\n",
    "\n",
    "ax = WindroseAxes.from_ax()\n",
    "ax.bar(df_wind['WD'], df_wind['WS'], normed=True, opening=0.8, edgecolor='white')\n",
    "ax.set_legend()\n",
    "plt.title('Wind Rose')\n",
    "plt.show()"
   ]
  },
  {
   "cell_type": "code",
   "execution_count": null,
   "id": "c40eee1f",
   "metadata": {},
   "outputs": [],
   "source": [
    "#Histograms of of GHI and WS:\n",
    "# Histogram for GHI\n",
    "sns.histplot(df_clean['GHI'], kde=True, bins=30, color='orange')\n",
    "plt.title('Distribution of GHI')\n",
    "plt.xlabel('GHI')\n",
    "plt.ylabel('Frequency')\n",
    "plt.show()\n",
    "\n",
    "# Histogram for WS\n",
    "sns.histplot(df_clean['WS'], kde=True, bins=30, color='skyblue')\n",
    "plt.title('Distribution of Wind Speed (WS)')\n",
    "plt.xlabel('WS')\n",
    "plt.ylabel('Frequency')\n",
    "plt.show()"
   ]
  },
  {
   "cell_type": "code",
   "execution_count": null,
   "id": "034d94e9",
   "metadata": {},
   "outputs": [],
   "source": [
    "#Relative humidity with temperature readings and solar radiation.\n",
    "\n",
    "fig, axs = plt.subplots(2, 2, figsize=(14, 10), sharex=True)\n",
    "\n",
    "# RH vs Tamb\n",
    "sns.scatterplot(data=df_clean, x='RH', y='Tamb', ax=axs[0, 0])\n",
    "axs[0, 0].set_title('RH vs Tamb')\n",
    "\n",
    "# RH vs TModA\n",
    "sns.scatterplot(data=df_clean, x='RH', y='TModA', ax=axs[0, 1])\n",
    "axs[0, 1].set_title('RH vs TModA')\n",
    "\n",
    "# RH vs TModB\n",
    "sns.scatterplot(data=df_clean, x='RH', y='TModB', ax=axs[1, 0])\n",
    "axs[1, 0].set_title('RH vs TModB')\n",
    "\n",
    "# RH vs GHI\n",
    "sns.scatterplot(data=df_clean, x='RH', y='GHI', ax=axs[1, 1])\n",
    "axs[1, 1].set_title('RH vs GHI')\n",
    "\n",
    "# Add a shared X label\n",
    "for ax in axs.flat:\n",
    "    ax.set_xlabel('Relative Humidity (%)')\n",
    "\n",
    "plt.tight_layout()\n",
    "plt.show()"
   ]
  },
  {
   "cell_type": "code",
   "execution_count": null,
   "id": "feb24763",
   "metadata": {},
   "outputs": [],
   "source": [
    "plt.figure(figsize=(10, 6))\n",
    "sns.scatterplot(\n",
    "    data=df_clean, \n",
    "    x='GHI', \n",
    "    y='Tamb', \n",
    "    size='RH', \n",
    "    sizes=(20, 200), \n",
    "    alpha=0.6\n",
    ")\n",
    "plt.title('GHI vs Tamb (Bubble size = RH)')\n",
    "plt.xlabel('Global Horizontal Irradiance (GHI)')\n",
    "plt.ylabel('Ambient Temperature (Tamb)')\n",
    "plt.legend(title='Relative Humidity', loc='upper right')\n",
    "plt.tight_layout()\n",
    "plt.show()\n"
   ]
  },
  {
   "cell_type": "code",
   "execution_count": null,
   "id": "ac297bc2",
   "metadata": {},
   "outputs": [],
   "source": []
  }
 ],
 "metadata": {
  "kernelspec": {
   "display_name": "env",
   "language": "python",
   "name": "python3"
  },
  "language_info": {
   "codemirror_mode": {
    "name": "ipython",
    "version": 3
   },
   "file_extension": ".py",
   "mimetype": "text/x-python",
   "name": "python",
   "nbconvert_exporter": "python",
   "pygments_lexer": "ipython3",
   "version": "3.12.2"
  }
 },
 "nbformat": 4,
 "nbformat_minor": 5
}
