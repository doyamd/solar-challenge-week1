{
 "cells": [
  {
   "cell_type": "code",
   "execution_count": null,
   "id": "67a5e423",
   "metadata": {},
   "outputs": [],
   "source": [
    "import pandas as pd\n",
    "import seaborn as sns\n",
    "import matplotlib.pyplot as plt\n",
    "from scipy.stats import f_oneway"
   ]
  },
  {
   "cell_type": "code",
   "execution_count": null,
   "id": "43d42286",
   "metadata": {},
   "outputs": [],
   "source": [
    "benin = pd.read_csv(\"../data/benin_clean.csv\")\n",
    "togo = pd.read_csv(\"../data/togo_clean.csv\")\n",
    "sierra_leone = pd.read_csv(\"../data/sierraleone_clean.csv\")\n",
    "\n",
    "benin['Country'] = 'Benin'\n",
    "togo['Country'] = 'Togo'\n",
    "sierra_leone['Country'] = 'Sierra Leone'\n",
    "\n",
    "df_all = pd.concat([benin, togo, sierra_leone], ignore_index=True)"
   ]
  },
  {
   "cell_type": "code",
   "execution_count": null,
   "id": "60449916",
   "metadata": {},
   "outputs": [],
   "source": [
    "custom_palette = {\n",
    "    \"Benin\": \"#0095ff\",         # blue\n",
    "    \"Togo\": \"#ff7f0e\",          # orange\n",
    "    \"Sierra Leone\": \"#09b509\"   # green\n",
    "}\n",
    "\n",
    "# Boxplot for GHI\n",
    "sns.boxplot(x='Country', y='GHI', palette=custom_palette, data=df_all)\n",
    "plt.title('GHI Distribution by Country')\n",
    "plt.show()\n",
    "\n",
    "# Boxplot for DNI\n",
    "sns.boxplot(x='Country', y='DNI', palette=custom_palette, data=df_all)\n",
    "plt.title('DNI Distribution by Country')\n",
    "plt.show()\n",
    "\n",
    "# Boxplot for DHI\n",
    "sns.boxplot(x='Country', y='DHI', palette=custom_palette, data=df_all)\n",
    "plt.title('DHI Distribution by Country')\n",
    "plt.show()\n"
   ]
  },
  {
   "cell_type": "code",
   "execution_count": null,
   "id": "0f100cdf",
   "metadata": {},
   "outputs": [],
   "source": [
    "summary = df_all.groupby('Country')[['GHI', 'DNI', 'DHI']].agg(['mean', 'median', 'std']).round(2)\n",
    "summary"
   ]
  },
  {
   "cell_type": "code",
   "execution_count": null,
   "id": "14c34eca",
   "metadata": {},
   "outputs": [],
   "source": [
    "# Extract GHI values per country\n",
    "ghi_benin = benin[\"GHI\"]\n",
    "ghi_togo = togo[\"GHI\"]\n",
    "ghi_sierra = sierra_leone[\"GHI\"]\n",
    "\n",
    "# One-way ANOVA\n",
    "f_stat, p_val = f_oneway(ghi_benin, ghi_togo, ghi_sierra)\n",
    "\n",
    "print(f\"ANOVA test p-value: {p_val:.5f}\")\n",
    "if p_val < 0.05:\n",
    "    print(\"There is a significant difference in GHI between the countries.\")"
   ]
  },
  {
   "cell_type": "markdown",
   "id": "84d5aa3e",
   "metadata": {},
   "source": [
    "### Key Observations\n",
    "\n",
    "- **Benin** shows the **highest average and median GHI**, indicating strong solar potential, but also exhibits relatively high variability.\n",
    "- **Sierra Leone** has the **lowest GHI values overall**, suggesting comparatively lower solar resource availability.\n",
    "- **Togo** maintains **moderate GHI levels with low variability**, making it a more stable and predictable location for solar energy projects.\n"
   ]
  },
  {
   "cell_type": "code",
   "execution_count": null,
   "id": "a884ca90",
   "metadata": {},
   "outputs": [],
   "source": [
    "avg_ghi = {\n",
    "    'Benin': benin['GHI'].mean(),\n",
    "    'Togo': togo['GHI'].mean(),\n",
    "    'Sierra Leone': sierra_leone['GHI'].mean()\n",
    "}\n",
    "\n",
    "# Convert to DataFrame\n",
    "avg_ghi_df = pd.DataFrame(list(avg_ghi.items()), columns=['Country', 'Average GHI'])\n",
    "avg_ghi_df = avg_ghi_df.sort_values(by='Average GHI', ascending=False)\n",
    "\n",
    "# Plot\n",
    "plt.figure(figsize=(6, 4))\n",
    "sns.barplot(data=avg_ghi_df, x='Country', y='Average GHI', palette='Set2')\n",
    "plt.title('Average GHI by Country')\n",
    "plt.ylabel('Average GHI')\n",
    "plt.xlabel('Country')\n",
    "plt.tight_layout()\n",
    "plt.show()"
   ]
  }
 ],
 "metadata": {
  "kernelspec": {
   "display_name": "env",
   "language": "python",
   "name": "python3"
  },
  "language_info": {
   "codemirror_mode": {
    "name": "ipython",
    "version": 3
   },
   "file_extension": ".py",
   "mimetype": "text/x-python",
   "name": "python",
   "nbconvert_exporter": "python",
   "pygments_lexer": "ipython3",
   "version": "3.12.2"
  }
 },
 "nbformat": 4,
 "nbformat_minor": 5
}
