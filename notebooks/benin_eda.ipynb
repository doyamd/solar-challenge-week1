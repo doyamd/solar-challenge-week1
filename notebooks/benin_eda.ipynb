{
 "cells": [
  {
   "cell_type": "code",
   "execution_count": null,
   "id": "11027b91",
   "metadata": {},
   "outputs": [],
   "source": [
    "import pandas as pd\n",
    "import numpy as np\n",
    "import seaborn as sns\n",
    "import matplotlib.pyplot as plt\n",
    "import scipy as stats \n",
    "from scipy.stats import zscore\n",
    "import matplotlib.pyplot as plt\n",
    "from windrose import WindroseAxes"
   ]
  },
  {
   "cell_type": "code",
   "execution_count": 31,
   "id": "69e30fd0",
   "metadata": {},
   "outputs": [
    {
     "ename": "FileNotFoundError",
     "evalue": "[Errno 2] No such file or directory: 'data/benin-malanville.csv'",
     "output_type": "error",
     "traceback": [
      "\u001b[31m---------------------------------------------------------------------------\u001b[39m",
      "\u001b[31mFileNotFoundError\u001b[39m                         Traceback (most recent call last)",
      "\u001b[36mCell\u001b[39m\u001b[36m \u001b[39m\u001b[32mIn[31]\u001b[39m\u001b[32m, line 2\u001b[39m\n\u001b[32m      1\u001b[39m \u001b[38;5;66;03m#Loading the dataset\u001b[39;00m\n\u001b[32m----> \u001b[39m\u001b[32m2\u001b[39m df = \u001b[43mpd\u001b[49m\u001b[43m.\u001b[49m\u001b[43mread_csv\u001b[49m\u001b[43m(\u001b[49m\u001b[33;43m\"\u001b[39;49m\u001b[33;43mdata/benin-malanville.csv\u001b[39;49m\u001b[33;43m\"\u001b[39;49m\u001b[43m)\u001b[49m\n",
      "\u001b[36mFile \u001b[39m\u001b[32mc:\\Users\\PC\\OneDrive\\Desktop\\Project\\solar-challenge-week1\\env\\Lib\\site-packages\\pandas\\io\\parsers\\readers.py:1026\u001b[39m, in \u001b[36mread_csv\u001b[39m\u001b[34m(filepath_or_buffer, sep, delimiter, header, names, index_col, usecols, dtype, engine, converters, true_values, false_values, skipinitialspace, skiprows, skipfooter, nrows, na_values, keep_default_na, na_filter, verbose, skip_blank_lines, parse_dates, infer_datetime_format, keep_date_col, date_parser, date_format, dayfirst, cache_dates, iterator, chunksize, compression, thousands, decimal, lineterminator, quotechar, quoting, doublequote, escapechar, comment, encoding, encoding_errors, dialect, on_bad_lines, delim_whitespace, low_memory, memory_map, float_precision, storage_options, dtype_backend)\u001b[39m\n\u001b[32m   1013\u001b[39m kwds_defaults = _refine_defaults_read(\n\u001b[32m   1014\u001b[39m     dialect,\n\u001b[32m   1015\u001b[39m     delimiter,\n\u001b[32m   (...)\u001b[39m\u001b[32m   1022\u001b[39m     dtype_backend=dtype_backend,\n\u001b[32m   1023\u001b[39m )\n\u001b[32m   1024\u001b[39m kwds.update(kwds_defaults)\n\u001b[32m-> \u001b[39m\u001b[32m1026\u001b[39m \u001b[38;5;28;01mreturn\u001b[39;00m \u001b[43m_read\u001b[49m\u001b[43m(\u001b[49m\u001b[43mfilepath_or_buffer\u001b[49m\u001b[43m,\u001b[49m\u001b[43m \u001b[49m\u001b[43mkwds\u001b[49m\u001b[43m)\u001b[49m\n",
      "\u001b[36mFile \u001b[39m\u001b[32mc:\\Users\\PC\\OneDrive\\Desktop\\Project\\solar-challenge-week1\\env\\Lib\\site-packages\\pandas\\io\\parsers\\readers.py:620\u001b[39m, in \u001b[36m_read\u001b[39m\u001b[34m(filepath_or_buffer, kwds)\u001b[39m\n\u001b[32m    617\u001b[39m _validate_names(kwds.get(\u001b[33m\"\u001b[39m\u001b[33mnames\u001b[39m\u001b[33m\"\u001b[39m, \u001b[38;5;28;01mNone\u001b[39;00m))\n\u001b[32m    619\u001b[39m \u001b[38;5;66;03m# Create the parser.\u001b[39;00m\n\u001b[32m--> \u001b[39m\u001b[32m620\u001b[39m parser = \u001b[43mTextFileReader\u001b[49m\u001b[43m(\u001b[49m\u001b[43mfilepath_or_buffer\u001b[49m\u001b[43m,\u001b[49m\u001b[43m \u001b[49m\u001b[43m*\u001b[49m\u001b[43m*\u001b[49m\u001b[43mkwds\u001b[49m\u001b[43m)\u001b[49m\n\u001b[32m    622\u001b[39m \u001b[38;5;28;01mif\u001b[39;00m chunksize \u001b[38;5;129;01mor\u001b[39;00m iterator:\n\u001b[32m    623\u001b[39m     \u001b[38;5;28;01mreturn\u001b[39;00m parser\n",
      "\u001b[36mFile \u001b[39m\u001b[32mc:\\Users\\PC\\OneDrive\\Desktop\\Project\\solar-challenge-week1\\env\\Lib\\site-packages\\pandas\\io\\parsers\\readers.py:1620\u001b[39m, in \u001b[36mTextFileReader.__init__\u001b[39m\u001b[34m(self, f, engine, **kwds)\u001b[39m\n\u001b[32m   1617\u001b[39m     \u001b[38;5;28mself\u001b[39m.options[\u001b[33m\"\u001b[39m\u001b[33mhas_index_names\u001b[39m\u001b[33m\"\u001b[39m] = kwds[\u001b[33m\"\u001b[39m\u001b[33mhas_index_names\u001b[39m\u001b[33m\"\u001b[39m]\n\u001b[32m   1619\u001b[39m \u001b[38;5;28mself\u001b[39m.handles: IOHandles | \u001b[38;5;28;01mNone\u001b[39;00m = \u001b[38;5;28;01mNone\u001b[39;00m\n\u001b[32m-> \u001b[39m\u001b[32m1620\u001b[39m \u001b[38;5;28mself\u001b[39m._engine = \u001b[38;5;28;43mself\u001b[39;49m\u001b[43m.\u001b[49m\u001b[43m_make_engine\u001b[49m\u001b[43m(\u001b[49m\u001b[43mf\u001b[49m\u001b[43m,\u001b[49m\u001b[43m \u001b[49m\u001b[38;5;28;43mself\u001b[39;49m\u001b[43m.\u001b[49m\u001b[43mengine\u001b[49m\u001b[43m)\u001b[49m\n",
      "\u001b[36mFile \u001b[39m\u001b[32mc:\\Users\\PC\\OneDrive\\Desktop\\Project\\solar-challenge-week1\\env\\Lib\\site-packages\\pandas\\io\\parsers\\readers.py:1880\u001b[39m, in \u001b[36mTextFileReader._make_engine\u001b[39m\u001b[34m(self, f, engine)\u001b[39m\n\u001b[32m   1878\u001b[39m     \u001b[38;5;28;01mif\u001b[39;00m \u001b[33m\"\u001b[39m\u001b[33mb\u001b[39m\u001b[33m\"\u001b[39m \u001b[38;5;129;01mnot\u001b[39;00m \u001b[38;5;129;01min\u001b[39;00m mode:\n\u001b[32m   1879\u001b[39m         mode += \u001b[33m\"\u001b[39m\u001b[33mb\u001b[39m\u001b[33m\"\u001b[39m\n\u001b[32m-> \u001b[39m\u001b[32m1880\u001b[39m \u001b[38;5;28mself\u001b[39m.handles = \u001b[43mget_handle\u001b[49m\u001b[43m(\u001b[49m\n\u001b[32m   1881\u001b[39m \u001b[43m    \u001b[49m\u001b[43mf\u001b[49m\u001b[43m,\u001b[49m\n\u001b[32m   1882\u001b[39m \u001b[43m    \u001b[49m\u001b[43mmode\u001b[49m\u001b[43m,\u001b[49m\n\u001b[32m   1883\u001b[39m \u001b[43m    \u001b[49m\u001b[43mencoding\u001b[49m\u001b[43m=\u001b[49m\u001b[38;5;28;43mself\u001b[39;49m\u001b[43m.\u001b[49m\u001b[43moptions\u001b[49m\u001b[43m.\u001b[49m\u001b[43mget\u001b[49m\u001b[43m(\u001b[49m\u001b[33;43m\"\u001b[39;49m\u001b[33;43mencoding\u001b[39;49m\u001b[33;43m\"\u001b[39;49m\u001b[43m,\u001b[49m\u001b[43m \u001b[49m\u001b[38;5;28;43;01mNone\u001b[39;49;00m\u001b[43m)\u001b[49m\u001b[43m,\u001b[49m\n\u001b[32m   1884\u001b[39m \u001b[43m    \u001b[49m\u001b[43mcompression\u001b[49m\u001b[43m=\u001b[49m\u001b[38;5;28;43mself\u001b[39;49m\u001b[43m.\u001b[49m\u001b[43moptions\u001b[49m\u001b[43m.\u001b[49m\u001b[43mget\u001b[49m\u001b[43m(\u001b[49m\u001b[33;43m\"\u001b[39;49m\u001b[33;43mcompression\u001b[39;49m\u001b[33;43m\"\u001b[39;49m\u001b[43m,\u001b[49m\u001b[43m \u001b[49m\u001b[38;5;28;43;01mNone\u001b[39;49;00m\u001b[43m)\u001b[49m\u001b[43m,\u001b[49m\n\u001b[32m   1885\u001b[39m \u001b[43m    \u001b[49m\u001b[43mmemory_map\u001b[49m\u001b[43m=\u001b[49m\u001b[38;5;28;43mself\u001b[39;49m\u001b[43m.\u001b[49m\u001b[43moptions\u001b[49m\u001b[43m.\u001b[49m\u001b[43mget\u001b[49m\u001b[43m(\u001b[49m\u001b[33;43m\"\u001b[39;49m\u001b[33;43mmemory_map\u001b[39;49m\u001b[33;43m\"\u001b[39;49m\u001b[43m,\u001b[49m\u001b[43m \u001b[49m\u001b[38;5;28;43;01mFalse\u001b[39;49;00m\u001b[43m)\u001b[49m\u001b[43m,\u001b[49m\n\u001b[32m   1886\u001b[39m \u001b[43m    \u001b[49m\u001b[43mis_text\u001b[49m\u001b[43m=\u001b[49m\u001b[43mis_text\u001b[49m\u001b[43m,\u001b[49m\n\u001b[32m   1887\u001b[39m \u001b[43m    \u001b[49m\u001b[43merrors\u001b[49m\u001b[43m=\u001b[49m\u001b[38;5;28;43mself\u001b[39;49m\u001b[43m.\u001b[49m\u001b[43moptions\u001b[49m\u001b[43m.\u001b[49m\u001b[43mget\u001b[49m\u001b[43m(\u001b[49m\u001b[33;43m\"\u001b[39;49m\u001b[33;43mencoding_errors\u001b[39;49m\u001b[33;43m\"\u001b[39;49m\u001b[43m,\u001b[49m\u001b[43m \u001b[49m\u001b[33;43m\"\u001b[39;49m\u001b[33;43mstrict\u001b[39;49m\u001b[33;43m\"\u001b[39;49m\u001b[43m)\u001b[49m\u001b[43m,\u001b[49m\n\u001b[32m   1888\u001b[39m \u001b[43m    \u001b[49m\u001b[43mstorage_options\u001b[49m\u001b[43m=\u001b[49m\u001b[38;5;28;43mself\u001b[39;49m\u001b[43m.\u001b[49m\u001b[43moptions\u001b[49m\u001b[43m.\u001b[49m\u001b[43mget\u001b[49m\u001b[43m(\u001b[49m\u001b[33;43m\"\u001b[39;49m\u001b[33;43mstorage_options\u001b[39;49m\u001b[33;43m\"\u001b[39;49m\u001b[43m,\u001b[49m\u001b[43m \u001b[49m\u001b[38;5;28;43;01mNone\u001b[39;49;00m\u001b[43m)\u001b[49m\u001b[43m,\u001b[49m\n\u001b[32m   1889\u001b[39m \u001b[43m\u001b[49m\u001b[43m)\u001b[49m\n\u001b[32m   1890\u001b[39m \u001b[38;5;28;01massert\u001b[39;00m \u001b[38;5;28mself\u001b[39m.handles \u001b[38;5;129;01mis\u001b[39;00m \u001b[38;5;129;01mnot\u001b[39;00m \u001b[38;5;28;01mNone\u001b[39;00m\n\u001b[32m   1891\u001b[39m f = \u001b[38;5;28mself\u001b[39m.handles.handle\n",
      "\u001b[36mFile \u001b[39m\u001b[32mc:\\Users\\PC\\OneDrive\\Desktop\\Project\\solar-challenge-week1\\env\\Lib\\site-packages\\pandas\\io\\common.py:873\u001b[39m, in \u001b[36mget_handle\u001b[39m\u001b[34m(path_or_buf, mode, encoding, compression, memory_map, is_text, errors, storage_options)\u001b[39m\n\u001b[32m    868\u001b[39m \u001b[38;5;28;01melif\u001b[39;00m \u001b[38;5;28misinstance\u001b[39m(handle, \u001b[38;5;28mstr\u001b[39m):\n\u001b[32m    869\u001b[39m     \u001b[38;5;66;03m# Check whether the filename is to be opened in binary mode.\u001b[39;00m\n\u001b[32m    870\u001b[39m     \u001b[38;5;66;03m# Binary mode does not support 'encoding' and 'newline'.\u001b[39;00m\n\u001b[32m    871\u001b[39m     \u001b[38;5;28;01mif\u001b[39;00m ioargs.encoding \u001b[38;5;129;01mand\u001b[39;00m \u001b[33m\"\u001b[39m\u001b[33mb\u001b[39m\u001b[33m\"\u001b[39m \u001b[38;5;129;01mnot\u001b[39;00m \u001b[38;5;129;01min\u001b[39;00m ioargs.mode:\n\u001b[32m    872\u001b[39m         \u001b[38;5;66;03m# Encoding\u001b[39;00m\n\u001b[32m--> \u001b[39m\u001b[32m873\u001b[39m         handle = \u001b[38;5;28;43mopen\u001b[39;49m\u001b[43m(\u001b[49m\n\u001b[32m    874\u001b[39m \u001b[43m            \u001b[49m\u001b[43mhandle\u001b[49m\u001b[43m,\u001b[49m\n\u001b[32m    875\u001b[39m \u001b[43m            \u001b[49m\u001b[43mioargs\u001b[49m\u001b[43m.\u001b[49m\u001b[43mmode\u001b[49m\u001b[43m,\u001b[49m\n\u001b[32m    876\u001b[39m \u001b[43m            \u001b[49m\u001b[43mencoding\u001b[49m\u001b[43m=\u001b[49m\u001b[43mioargs\u001b[49m\u001b[43m.\u001b[49m\u001b[43mencoding\u001b[49m\u001b[43m,\u001b[49m\n\u001b[32m    877\u001b[39m \u001b[43m            \u001b[49m\u001b[43merrors\u001b[49m\u001b[43m=\u001b[49m\u001b[43merrors\u001b[49m\u001b[43m,\u001b[49m\n\u001b[32m    878\u001b[39m \u001b[43m            \u001b[49m\u001b[43mnewline\u001b[49m\u001b[43m=\u001b[49m\u001b[33;43m\"\u001b[39;49m\u001b[33;43m\"\u001b[39;49m\u001b[43m,\u001b[49m\n\u001b[32m    879\u001b[39m \u001b[43m        \u001b[49m\u001b[43m)\u001b[49m\n\u001b[32m    880\u001b[39m     \u001b[38;5;28;01melse\u001b[39;00m:\n\u001b[32m    881\u001b[39m         \u001b[38;5;66;03m# Binary mode\u001b[39;00m\n\u001b[32m    882\u001b[39m         handle = \u001b[38;5;28mopen\u001b[39m(handle, ioargs.mode)\n",
      "\u001b[31mFileNotFoundError\u001b[39m: [Errno 2] No such file or directory: 'data/benin-malanville.csv'"
     ]
    }
   ],
   "source": [
    "#Loading the dataset\n",
    "df = pd.read_csv(\"data/benin-malanville.csv\")"
   ]
  },
  {
   "cell_type": "code",
   "execution_count": null,
   "id": "1b6eb7fa",
   "metadata": {},
   "outputs": [],
   "source": [
    "df.describe() #stat"
   ]
  },
  {
   "cell_type": "code",
   "execution_count": null,
   "id": "59620cee",
   "metadata": {},
   "outputs": [],
   "source": [
    "df.isna().sum() #missing values"
   ]
  },
  {
   "cell_type": "code",
   "execution_count": null,
   "id": "5f0c564e",
   "metadata": {},
   "outputs": [],
   "source": [
    "missing_percentage = df.isna().mean() * 100\n",
    "high_null_columns = missing_percentage[missing_percentage > 5]\n",
    "\n",
    "print(\"Columns with >5% missing values:\")\n",
    "print(high_null_columns)"
   ]
  },
  {
   "cell_type": "code",
   "execution_count": null,
   "id": "ce81cfa9",
   "metadata": {},
   "outputs": [],
   "source": [
    "cols_to_check = ['GHI', 'DNI', 'DHI', 'ModA', 'ModB', 'WS', 'WSgust'] #outliers of these\n",
    "z_scores = df[cols_to_check].apply(zscore)\n",
    "outliers = (np.abs(z_scores) > 3)\n",
    "print(\"Outlier counts per column (|Z| > 3):\")\n",
    "print(outliers.sum())"
   ]
  },
  {
   "cell_type": "code",
   "execution_count": null,
   "id": "c14d350a",
   "metadata": {},
   "outputs": [],
   "source": [
    "df[cols_to_check] = df[cols_to_check].mask(outliers) #make outliers NaN"
   ]
  },
  {
   "cell_type": "code",
   "execution_count": null,
   "id": "5bd4ce3e",
   "metadata": {},
   "outputs": [],
   "source": [
    "df_clean = df.copy() #make missing values median\n",
    "for col in cols_to_check:\n",
    "    median_value = df_clean[col].median()\n",
    "    df_clean[col] = df_clean[col].fillna(median_value)"
   ]
  },
  {
   "cell_type": "code",
   "execution_count": null,
   "id": "a5f360d2",
   "metadata": {},
   "outputs": [],
   "source": [
    "df_clean.to_csv(\"data/benin_clean.csv\", index=False)"
   ]
  },
  {
   "cell_type": "code",
   "execution_count": null,
   "id": "4d9fbe32",
   "metadata": {},
   "outputs": [],
   "source": [
    "df_clean['Timestamp'] = pd.to_datetime(df_clean['Timestamp'])\n"
   ]
  },
  {
   "cell_type": "code",
   "execution_count": null,
   "id": "6a245da8",
   "metadata": {},
   "outputs": [],
   "source": [
    "plt.figure(figsize=(14, 7))\n",
    "\n",
    "plt.plot(df_clean['Timestamp'], df_clean['GHI'], label='GHI')\n",
    "plt.plot(df_clean['Timestamp'], df_clean['DNI'], label='DNI')\n",
    "plt.plot(df_clean['Timestamp'], df_clean['DHI'], label='DHI')\n",
    "plt.plot(df_clean['Timestamp'], df_clean['Tamb'], label='Tamb')\n",
    "\n",
    "plt.xlabel('Timestamp')\n",
    "plt.ylabel('Value')\n",
    "plt.title('Solar Irradiance and Temperature Over Time')\n",
    "plt.legend()\n",
    "plt.show()"
   ]
  },
  {
   "cell_type": "code",
   "execution_count": null,
   "id": "f7241f29",
   "metadata": {},
   "outputs": [],
   "source": [
    "df_clean['Month'] = df_clean['Timestamp'].dt.month\n",
    "\n",
    "monthly_avg = df_clean.groupby('Month')[['GHI', 'DNI', 'DHI', 'Tamb']].mean()\n",
    "\n",
    "monthly_avg.plot(kind='bar', figsize=(12, 6))\n",
    "plt.title('Average Solar Irradiance and Temperature by Month')\n",
    "plt.xlabel('Month')\n",
    "plt.ylabel('Average Value')\n",
    "plt.show()"
   ]
  },
  {
   "cell_type": "code",
   "execution_count": null,
   "id": "e49196fb",
   "metadata": {},
   "outputs": [],
   "source": [
    "cols = ['GHI', 'DNI', 'DHI', 'Tamb']\n",
    "\n",
    "# Compute z-scores\n",
    "z_scores_clean = df_clean[cols].apply(zscore)\n",
    "\n",
    "# Identify rows where any absolute z-score > 3\n",
    "outliers_clean = (z_scores_clean.abs() > 3).any(axis=1)\n",
    "df_outliers_clean = df_clean[outliers_clean]"
   ]
  },
  {
   "cell_type": "code",
   "execution_count": null,
   "id": "889db2fb",
   "metadata": {},
   "outputs": [],
   "source": [
    "df_clean['Timestamp'] = pd.to_datetime(df_clean['Timestamp'])\n",
    "df_clean.set_index('Timestamp', inplace=True)\n",
    "df_outliers_clean.set_index('Timestamp', inplace=True)"
   ]
  },
  {
   "cell_type": "code",
   "execution_count": null,
   "id": "7e5aad49",
   "metadata": {},
   "outputs": [],
   "source": [
    "plt.figure(figsize=(12, 5))\n",
    "sns.lineplot(data=df_clean, x=df_clean.index, y='GHI', label='GHI')\n",
    "sns.scatterplot(data=df_outliers_clean, x=df_outliers_clean.index, y='GHI', color='red', label='Anomalies')\n",
    "plt.title(\"GHI with Anomalies Highlighted\")\n",
    "plt.legend()\n",
    "plt.show()"
   ]
  },
  {
   "cell_type": "code",
   "execution_count": null,
   "id": "a58d3750",
   "metadata": {},
   "outputs": [],
   "source": [
    "plt.figure(figsize=(12, 5)) \n",
    "sns.lineplot(data=df_clean, x=df_clean.index, y='DNI', label='DNI')\n",
    "sns.scatterplot(data=df_outliers_clean, x=df_outliers_clean.index, y='DNI', color='red', label='Anomalies')\n",
    "plt.title(\"DNI with Anomalies Highlighted\")\n",
    "plt.legend()\n",
    "plt.show()"
   ]
  },
  {
   "cell_type": "code",
   "execution_count": null,
   "id": "dd44eef7",
   "metadata": {},
   "outputs": [],
   "source": [
    "plt.figure(figsize=(12, 5))\n",
    "sns.lineplot(data=df_clean, x=df_clean.index, y='DHI', label='DHI')\n",
    "sns.scatterplot(data=df_outliers_clean, x=df_outliers_clean.index, y='DHI', color='red', label='Anomalies')\n",
    "plt.title(\"DHI with Anomalies Highlighted\")\n",
    "plt.legend()\n",
    "plt.show()\n"
   ]
  },
  {
   "cell_type": "code",
   "execution_count": null,
   "id": "d2d7d011",
   "metadata": {},
   "outputs": [],
   "source": [
    "plt.figure(figsize=(12, 5))\n",
    "sns.lineplot(data=df_clean, x=df_clean.index, y='Tamb', label='Tamb')\n",
    "sns.scatterplot(data=df_outliers_clean, x=df_outliers_clean.index, y='Tamb', color='red', label='Anomalies')\n",
    "plt.title(\"Tamb with Anomalies Highlighted\")\n",
    "plt.legend()\n",
    "plt.show()\n"
   ]
  },
  {
   "cell_type": "code",
   "execution_count": null,
   "id": "3dd81e3b",
   "metadata": {},
   "outputs": [],
   "source": [
    "#Cleaning effect on ModA and ModB\n",
    "cleaning_effect = df_clean.groupby('Cleaning')[['ModA', 'ModB']].mean().reset_index()\n",
    "\n",
    "# Melt the dataframe for better Seaborn plotting\n",
    "melted = cleaning_effect.melt(id_vars='Cleaning', value_vars=['ModA', 'ModB'],\n",
    "                               var_name='Module', value_name='Average Irradiance')\n",
    "\n",
    "# Plot\n",
    "plt.figure(figsize=(8, 5))\n",
    "sns.barplot(data=melted, x='Cleaning', y='Average Irradiance', hue='Module')\n",
    "plt.title('Effect of Cleaning on ModA and ModB')\n",
    "plt.xlabel('Cleaning (0 = Before, 1 = After)')\n",
    "plt.ylabel('Average Irradiance')\n",
    "plt.xticks([0, 1], ['Before Cleaning', 'After Cleaning'])\n",
    "plt.tight_layout()\n",
    "plt.show()"
   ]
  },
  {
   "cell_type": "code",
   "execution_count": null,
   "id": "7bc02578",
   "metadata": {},
   "outputs": [],
   "source": [
    "#Heatmap of Correlations\n",
    "corr_cols = ['GHI', 'DNI', 'DHI', 'TModA', 'TModB']\n",
    "corr_matrix = df_clean[corr_cols].corr()\n",
    "\n",
    "# Plot heatmap\n",
    "plt.figure(figsize=(8, 6))\n",
    "sns.heatmap(corr_matrix, annot=True, cmap='coolwarm', fmt=\".2f\")\n",
    "plt.title('Correlation Heatmap')\n",
    "plt.show()"
   ]
  },
  {
   "cell_type": "code",
   "execution_count": null,
   "id": "8ed3ce28",
   "metadata": {},
   "outputs": [],
   "source": [
    "#Scatter plots: WS, WSgust, WD vs. GHI\n",
    "# WS vs. GHI\n",
    "sns.scatterplot(data=df_clean, x='WS', y='GHI', size=1, legend=False)\n",
    "plt.title('Wind Speed (WS) vs GHI')\n",
    "plt.show()\n",
    "\n",
    "# WSgust vs. GHI\n",
    "sns.scatterplot(data=df_clean, x='WSgust', y='GHI', size=1, legend=False)\n",
    "plt.title('Wind Gust (WSgust) vs GHI')\n",
    "plt.show()\n",
    "\n",
    "# WD vs. GHI\n",
    "sns.scatterplot(data=df_clean, x='WD', y='GHI', size=1, legend=False)\n",
    "plt.title('Wind Direction (WD) vs GHI')\n",
    "plt.show()\n"
   ]
  },
  {
   "cell_type": "code",
   "execution_count": null,
   "id": "c228489b",
   "metadata": {},
   "outputs": [],
   "source": [
    "# RH vs. Tamb\n",
    "sns.scatterplot(data=df_clean, x='RH', y='Tamb', size=1, legend=False)\n",
    "plt.title('Relative Humidity (RH) vs Temperature (Tamb)')\n",
    "plt.show()\n",
    "\n",
    "# RH vs. GHI\n",
    "sns.scatterplot(data=df_clean, x='RH', y='GHI', size=1, legend=False)\n",
    "plt.title('Relative Humidity (RH) vs GHI')\n",
    "plt.show()"
   ]
  },
  {
   "cell_type": "code",
   "execution_count": null,
   "id": "fded4465",
   "metadata": {},
   "outputs": [],
   "source": [
    "#Wind rose or radial bar plot of WS/WD\n",
    "df_wind = df_clean[['WS', 'WD']].dropna()\n",
    "\n",
    "ax = WindroseAxes.from_ax()\n",
    "ax.bar(df_wind['WD'], df_wind['WS'], normed=True, opening=0.8, edgecolor='white')\n",
    "ax.set_legend()\n",
    "plt.title('Wind Rose')\n",
    "plt.show()"
   ]
  },
  {
   "cell_type": "code",
   "execution_count": null,
   "id": "c40eee1f",
   "metadata": {},
   "outputs": [],
   "source": [
    "#Histograms of of GHI and WS:\n",
    "# Histogram for GHI\n",
    "sns.histplot(df_clean['GHI'], kde=True, bins=30, color='orange')\n",
    "plt.title('Distribution of GHI')\n",
    "plt.xlabel('GHI')\n",
    "plt.ylabel('Frequency')\n",
    "plt.show()\n",
    "\n",
    "# Histogram for WS\n",
    "sns.histplot(df_clean['WS'], kde=True, bins=30, color='skyblue')\n",
    "plt.title('Distribution of Wind Speed (WS)')\n",
    "plt.xlabel('WS')\n",
    "plt.ylabel('Frequency')\n",
    "plt.show()"
   ]
  },
  {
   "cell_type": "code",
   "execution_count": null,
   "id": "034d94e9",
   "metadata": {},
   "outputs": [],
   "source": [
    "#Relative humidity with temperature readings and solar radiation.\n",
    "\n",
    "fig, axs = plt.subplots(2, 2, figsize=(14, 10), sharex=True)\n",
    "\n",
    "# RH vs Tamb\n",
    "sns.scatterplot(data=df_clean, x='RH', y='Tamb', ax=axs[0, 0])\n",
    "axs[0, 0].set_title('RH vs Tamb')\n",
    "\n",
    "# RH vs TModA\n",
    "sns.scatterplot(data=df_clean, x='RH', y='TModA', ax=axs[0, 1])\n",
    "axs[0, 1].set_title('RH vs TModA')\n",
    "\n",
    "# RH vs TModB\n",
    "sns.scatterplot(data=df_clean, x='RH', y='TModB', ax=axs[1, 0])\n",
    "axs[1, 0].set_title('RH vs TModB')\n",
    "\n",
    "# RH vs GHI\n",
    "sns.scatterplot(data=df_clean, x='RH', y='GHI', ax=axs[1, 1])\n",
    "axs[1, 1].set_title('RH vs GHI')\n",
    "\n",
    "# Add a shared X label\n",
    "for ax in axs.flat:\n",
    "    ax.set_xlabel('Relative Humidity (%)')\n",
    "\n",
    "plt.tight_layout()\n",
    "plt.show()"
   ]
  },
  {
   "cell_type": "code",
   "execution_count": null,
   "id": "feb24763",
   "metadata": {},
   "outputs": [],
   "source": [
    "plt.figure(figsize=(10, 6))\n",
    "sns.scatterplot(\n",
    "    data=df_clean, \n",
    "    x='GHI', \n",
    "    y='Tamb', \n",
    "    size='RH', \n",
    "    sizes=(20, 200), \n",
    "    alpha=0.6\n",
    ")\n",
    "plt.title('GHI vs Tamb (Bubble size = RH)')\n",
    "plt.xlabel('Global Horizontal Irradiance (GHI)')\n",
    "plt.ylabel('Ambient Temperature (Tamb)')\n",
    "plt.legend(title='Relative Humidity', loc='upper right')\n",
    "plt.tight_layout()\n",
    "plt.show()\n"
   ]
  },
  {
   "cell_type": "code",
   "execution_count": null,
   "id": "ac297bc2",
   "metadata": {},
   "outputs": [],
   "source": []
  }
 ],
 "metadata": {
  "kernelspec": {
   "display_name": "env",
   "language": "python",
   "name": "python3"
  },
  "language_info": {
   "codemirror_mode": {
    "name": "ipython",
    "version": 3
   },
   "file_extension": ".py",
   "mimetype": "text/x-python",
   "name": "python",
   "nbconvert_exporter": "python",
   "pygments_lexer": "ipython3",
   "version": "3.12.2"
  }
 },
 "nbformat": 4,
 "nbformat_minor": 5
}
